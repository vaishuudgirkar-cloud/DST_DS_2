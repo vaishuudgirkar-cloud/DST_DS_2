{
 "cells": [
  {
   "cell_type": "markdown",
   "id": "d9a5250c",
   "metadata": {},
   "source": [
    "\n",
    "# Titanic Dataset — Data Cleaning & Exploratory Data Analysis (EDA)\n",
    "\n",
    "This notebook performs **data cleaning** and **EDA** on the Titanic dataset (Kaggle format).  \n",
    "You can run it in **Google Colab** or **VS Code/Jupyter**.\n",
    "\n",
    "> If you're using Colab, run the next cell to upload `titanic.csv`.\n"
   ]
  },
  {
   "cell_type": "code",
   "execution_count": null,
   "id": "9832af34",
   "metadata": {},
   "outputs": [],
   "source": [
    "# If using Google Colab, uncomment the next 4 lines to upload titanic.csv\n",
    "# from google.colab import files\n",
    "# uploaded = files.upload()\n",
    "# import io\n",
    "# csv_name = list(uploaded.keys())[0]  # use uploaded filename\n",
    "csv_name = \"titanic.csv\"  # <- change this if your CSV has a different name/path\n"
   ]
  },
  {
   "cell_type": "code",
   "execution_count": null,
   "id": "84aa8367",
   "metadata": {},
   "outputs": [],
   "source": [
    "import pandas as pd\n",
    "import matplotlib.pyplot as plt\n",
    "\n",
    "# Visualization settings\n",
    "plt.rcParams['figure.figsize'] = (8, 5)\n",
    "pd.set_option('display.max_columns', None)"
   ]
  },
  {
   "cell_type": "code",
   "execution_count": null,
   "id": "370523c1",
   "metadata": {},
   "outputs": [],
   "source": [
    "# Load Titanic dataset\n",
    "df = pd.read_csv(csv_name)\n",
    "print(\"Shape:\", df.shape)\n",
    "df.head()"
   ]
  },
  {
   "cell_type": "code",
   "execution_count": null,
   "id": "c2b5482a",
   "metadata": {},
   "outputs": [],
   "source": [
    "print(\"Data Types / Info:\")\n",
    "print(df.dtypes)\n",
    "print(\"\\nMissing Values per Column:\")\n",
    "print(df.isna().sum())"
   ]
  },
  {
   "cell_type": "markdown",
   "id": "873ac281",
   "metadata": {},
   "source": [
    "## 🧹 Data Cleaning"
   ]
  },
  {
   "cell_type": "code",
   "execution_count": null,
   "id": "e4e8f4ff",
   "metadata": {},
   "outputs": [],
   "source": [
    "# 1) Fill missing 'Age' with median (robust to outliers)\n",
    "if 'Age' in df.columns:\n",
    "    df['Age'] = df['Age'].fillna(df['Age'].median())\n",
    "\n",
    "# 2) Fill missing 'Embarked' with mode (most frequent)\n",
    "if 'Embarked' in df.columns:\n",
    "    df['Embarked'] = df['Embarked'].fillna(df['Embarked'].mode()[0])\n",
    "\n",
    "# 3) Drop 'Cabin' due to high missingness (optional)\n",
    "if 'Cabin' in df.columns and df['Cabin'].isna().mean() > 0.6:\n",
    "    df = df.drop(columns=['Cabin'])\n",
    "\n",
    "# 4) Drop any remaining fully-empty columns\n",
    "df = df.dropna(axis=1, how='all')\n",
    "\n",
    "print(\"After cleaning — shape:\", df.shape)\n",
    "print(\"Remaining missing values:\")\n",
    "print(df.isna().sum())"
   ]
  },
  {
   "cell_type": "markdown",
   "id": "f5640183",
   "metadata": {},
   "source": [
    "## 🔎 Exploratory Data Analysis (EDA)"
   ]
  },
  {
   "cell_type": "code",
   "execution_count": null,
   "id": "8a31a715",
   "metadata": {},
   "outputs": [],
   "source": [
    "# Helper to add value labels on bars\n",
    "def add_labels(ax):\n",
    "    for p in ax.patches:\n",
    "        height = p.get_height()\n",
    "        ax.annotate(f'{int(height)}', (p.get_x()+p.get_width()/2., height),\n",
    "                    ha='center', va='bottom', xytext=(0,3), textcoords='offset points')\n",
    "\n",
    "# 1) Survival distribution\n",
    "if 'Survived' in df.columns:\n",
    "    counts = df['Survived'].value_counts().sort_index()\n",
    "    ax = counts.plot(kind='bar')\n",
    "    ax.set_title('Survival Distribution (0 = Not Survived, 1 = Survived)')\n",
    "    ax.set_xlabel('Survived')\n",
    "    ax.set_ylabel('Count')\n",
    "    add_labels(ax)\n",
    "    plt.tight_layout()\n",
    "    plt.show()"
   ]
  },
  {
   "cell_type": "code",
   "execution_count": null,
   "id": "b612b864",
   "metadata": {},
   "outputs": [],
   "source": [
    "# 2) Survival by Gender\n",
    "if set(['Sex','Survived']).issubset(df.columns):\n",
    "    ctab = pd.crosstab(df['Sex'], df['Survived'])\n",
    "    ax = ctab.plot(kind='bar', stacked=False)\n",
    "    ax.set_title('Survival by Gender')\n",
    "    ax.set_xlabel('Sex')\n",
    "    ax.set_ylabel('Count')\n",
    "    plt.xticks(rotation=0)\n",
    "    plt.tight_layout()\n",
    "    plt.show()"
   ]
  },
  {
   "cell_type": "code",
   "execution_count": null,
   "id": "4fa59051",
   "metadata": {},
   "outputs": [],
   "source": [
    "# 3) Survival by Passenger Class\n",
    "if set(['Pclass','Survived']).issubset(df.columns):\n",
    "    ctab = pd.crosstab(df['Pclass'], df['Survived'])\n",
    "    ax = ctab.plot(kind='bar')\n",
    "    ax.set_title('Survival by Passenger Class')\n",
    "    ax.set_xlabel('Pclass')\n",
    "    ax.set_ylabel('Count')\n",
    "    plt.tight_layout()\n",
    "    plt.show()"
   ]
  },
  {
   "cell_type": "code",
   "execution_count": null,
   "id": "ccb61849",
   "metadata": {},
   "outputs": [],
   "source": [
    "# 4) Age distribution\n",
    "if 'Age' in df.columns:\n",
    "    plt.hist(df['Age'].dropna(), bins=30, edgecolor='black')\n",
    "    plt.title('Age Distribution of Passengers')\n",
    "    plt.xlabel('Age')\n",
    "    plt.ylabel('Frequency')\n",
    "    plt.tight_layout()\n",
    "    plt.show()"
   ]
  },
  {
   "cell_type": "code",
   "execution_count": null,
   "id": "d71c5c12",
   "metadata": {},
   "outputs": [],
   "source": [
    "# 5) Age vs Survival (box-style using matplotlib)\n",
    "if set(['Age','Survived']).issubset(df.columns):\n",
    "    data0 = df[df['Survived']==0]['Age'].dropna()\n",
    "    data1 = df[df['Survived']==1]['Age'].dropna()\n",
    "    plt.boxplot([data0, data1], labels=['Not Survived', 'Survived'], showmeans=True)\n",
    "    plt.title('Age vs Survival')\n",
    "    plt.ylabel('Age')\n",
    "    plt.tight_layout()\n",
    "    plt.show()"
   ]
  },
  {
   "cell_type": "code",
   "execution_count": null,
   "id": "e406d89e",
   "metadata": {},
   "outputs": [],
   "source": [
    "# 6) Survival by Embarked\n",
    "if set(['Embarked','Survived']).issubset(df.columns):\n",
    "    ctab = pd.crosstab(df['Embarked'], df['Survived'])\n",
    "    ax = ctab.plot(kind='bar')\n",
    "    ax.set_title('Survival by Embarkation Port')\n",
    "    ax.set_xlabel('Embarked')\n",
    "    ax.set_ylabel('Count')\n",
    "    plt.tight_layout()\n",
    "    plt.show()"
   ]
  },
  {
   "cell_type": "code",
   "execution_count": null,
   "id": "740f5a36",
   "metadata": {},
   "outputs": [],
   "source": [
    "# 7) Correlation (numeric columns)\n",
    "numeric_df = df.select_dtypes(include='number')\n",
    "corr = numeric_df.corr(numeric_only=True)\n",
    "\n",
    "# Simple heatmap using matplotlib\n",
    "fig, ax = plt.subplots()\n",
    "cax = ax.imshow(corr, interpolation='nearest')\n",
    "ax.set_title('Correlation Heatmap (Numeric Columns)')\n",
    "fig.colorbar(cax)\n",
    "ax.set_xticks(range(len(corr.columns)))\n",
    "ax.set_yticks(range(len(corr.columns)))\n",
    "ax.set_xticklabels(corr.columns, rotation=90)\n",
    "ax.set_yticklabels(corr.columns)\n",
    "plt.tight_layout()\n",
    "plt.show()"
   ]
  },
  {
   "cell_type": "markdown",
   "id": "934b7667",
   "metadata": {},
   "source": [
    "\n",
    "## 📌 Quick Insights (Typical Patterns)\n",
    "- **Females** generally show **higher survival rates** than males.\n",
    "- **1st class** passengers survived more often than 2nd/3rd.\n",
    "- **Younger passengers** tend to have better odds of survival than older passengers.\n",
    "- `Fare` and `Pclass` often correlate with `Survived`.\n",
    "\n",
    "> Your exact results may vary depending on the Titanic CSV version you use.\n"
   ]
  }
 ],
 "metadata": {},
 "nbformat": 4,
 "nbformat_minor": 5
}
